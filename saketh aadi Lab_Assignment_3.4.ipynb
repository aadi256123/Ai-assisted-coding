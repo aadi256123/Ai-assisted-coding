{
 "cells": [
  {
   "cell_type": "code",
   "execution_count": null,
   "metadata": {
    "id": "YH26BfeqLOuO"
   },
   "outputs": [],
   "source": []
  },
  {
   "cell_type": "markdown",
   "metadata": {
    "id": "a8WLc01fPT1i"
   },
   "source": [
    "Task 1: Zero-shot Prompt : Fibonacci Series Generator."
   ]
  },
  {
   "cell_type": "markdown",
   "metadata": {
    "id": "CX14Pv-kPiAp"
   },
   "source": [
    "Prompt: write a Python code function to print the 1 to N Fibonacci numbers and take N as an input"
   ]
  },
  {
   "cell_type": "code",
   "execution_count": null,
   "metadata": {
    "colab": {
     "base_uri": "https://localhost:8080/"
    },
    "executionInfo": {
     "elapsed": 3626,
     "status": "ok",
     "timestamp": 1755186010455,
     "user": {
      "displayName": "P. Srikar",
      "userId": "10680239472928167952"
     },
     "user_tz": -330
    },
    "id": "469bbe8c",
    "outputId": "b22eb7b7-1b9e-4821-fbca-9a62f3c0d716"
   },
   "outputs": [
    {
     "name": "stdout",
     "output_type": "stream",
     "text": [
      "Enter the value of N: 7\n",
      "0 1 1 2 3 5 8 \n"
     ]
    }
   ],
   "source": [
    "def print_fibonacci(n):\n",
    "    \"\"\"\n",
    "    Prints the first N Fibonacci numbers.\n",
    "\n",
    "    Args:\n",
    "        n: The number of Fibonacci numbers to print.\n",
    "    \"\"\"\n",
    "    if n <= 0:\n",
    "        print(\"Please enter a positive integer.\")\n",
    "    elif n == 1:\n",
    "        print(\"0\")\n",
    "    else:\n",
    "        a, b = 0, 1\n",
    "        print(a, end=\" \")\n",
    "        print(b, end=\" \")\n",
    "        for _ in range(2, n):\n",
    "            next_fib = a + b\n",
    "            print(next_fib, end=\" \")\n",
    "            a = b\n",
    "            b = next_fib\n",
    "        print() # Newline at the end\n",
    "\n",
    "# Example usage:\n",
    "N = int(input(\"Enter the value of N: \"))\n",
    "print_fibonacci(N)"
   ]
  },
  {
   "cell_type": "code",
   "execution_count": null,
   "metadata": {
    "id": "mezN9RtDQgmo"
   },
   "outputs": [],
   "source": []
  },
  {
   "cell_type": "markdown",
   "metadata": {
    "id": "ht_n2_lERGyR"
   },
   "source": [
    "Task 2: One-shot Prompt : List Reversal Function"
   ]
  },
  {
   "cell_type": "markdown",
   "metadata": {
    "id": "4cRcyGybR31b"
   },
   "source": [
    "Prompt: write a python function that reverse a list."
   ]
  },
  {
   "cell_type": "code",
   "execution_count": 3,
   "metadata": {
    "colab": {
     "base_uri": "https://localhost:8080/"
    },
    "executionInfo": {
     "elapsed": 94,
     "status": "ok",
     "timestamp": 1755186608649,
     "user": {
      "displayName": "P. Srikar",
      "userId": "10680239472928167952"
     },
     "user_tz": -330
    },
    "id": "64b0c38c",
    "outputId": "f0f41bd4-334d-4167-cd41-92a6bba630ff"
   },
   "outputs": [
    {
     "name": "stdout",
     "output_type": "stream",
     "text": [
      "Original list: [10, 20, 30, 40, 50]\n",
      "Reversed list: [50, 40, 30, 20, 10]\n",
      "List reversed in-place: ['d', 'c', 'b', 'a']\n"
     ]
    }
   ],
   "source": [
    "def reverse_list(input_list):\n",
    "  \"\"\"\n",
    "  Reverses a given list and returns the reversed list.\n",
    "\n",
    "  Args:\n",
    "    input_list: The list to be reversed.\n",
    "\n",
    "  Returns:\n",
    "    A new list containing the elements of the input list in reverse order.\n",
    "  \"\"\"\n",
    "  return input_list[::-1]\n",
    "\n",
    "# Example usage:\n",
    "my_list = [10, 20, 30, 40, 50]\n",
    "reversed_list = reverse_list(my_list)\n",
    "print(f\"Original list: {my_list}\")\n",
    "print(f\"Reversed list: {reversed_list}\")\n",
    "\n",
    "# Example with in-place reversal (if you prefer to modify the original list)\n",
    "def reverse_list_in_place(input_list):\n",
    "  \"\"\"\n",
    "  Reverses a given list in-place.\n",
    "\n",
    "  Args:\n",
    "    input_list: The list to be reversed.\n",
    "  \"\"\"\n",
    "  input_list.reverse()\n",
    "\n",
    "another_list = ['a', 'b', 'c', 'd']\n",
    "reverse_list_in_place(another_list)\n",
    "print(f\"List reversed in-place: {another_list}\")"
   ]
  },
  {
   "cell_type": "code",
   "execution_count": null,
   "metadata": {
    "id": "6-_RqZlbSG2Y"
   },
   "outputs": [],
   "source": []
  },
  {
   "cell_type": "markdown",
   "metadata": {
    "id": "c8YeCtlnTMZx"
   },
   "source": [
    "Task 3: Few-shot Prompt : String Pattern Matching"
   ]
  },
  {
   "cell_type": "markdown",
   "metadata": {
    "id": "FPRmO9SdTU6w"
   },
   "source": [
    "Prompt:write a python code to check if a string starts with a capital letter and ends with a period the output should be true or false."
   ]
  },
  {
   "cell_type": "code",
   "execution_count": 4,
   "metadata": {
    "colab": {
     "base_uri": "https://localhost:8080/"
    },
    "executionInfo": {
     "elapsed": 74,
     "status": "ok",
     "timestamp": 1755187025960,
     "user": {
      "displayName": "P. Srikar",
      "userId": "10680239472928167952"
     },
     "user_tz": -330
    },
    "id": "943886ec",
    "outputId": "cbcdfd5d-ec4c-4c45-8955-7b6ca8544b51"
   },
   "outputs": [
    {
     "name": "stdout",
     "output_type": "stream",
     "text": [
      "'Hello world.': True\n",
      "'hello world.': False\n",
      "'Hello world': False\n",
      "'HELLO WORLD.': True\n",
      "'': False\n",
      "'.': False\n",
      "'A.': True\n"
     ]
    }
   ],
   "source": [
    "def check_string_format(text):\n",
    "  \"\"\"\n",
    "  Checks if a string starts with a capital letter and ends with a period.\n",
    "\n",
    "  Args:\n",
    "    text: The input string.\n",
    "\n",
    "  Returns:\n",
    "    True if the string starts with a capital letter and ends with a period,\n",
    "    False otherwise.\n",
    "  \"\"\"\n",
    "  if not text: # Handle empty string case\n",
    "    return False\n",
    "  return text[0].isupper() and text.endswith('.')\n",
    "\n",
    "# Example usage:\n",
    "string1 = \"Hello world.\"\n",
    "string2 = \"hello world.\"\n",
    "string3 = \"Hello world\"\n",
    "string4 = \"HELLO WORLD.\"\n",
    "string5 = \"\"\n",
    "string6 = \".\"\n",
    "string7 = \"A.\"\n",
    "\n",
    "print(f\"'{string1}': {check_string_format(string1)}\")\n",
    "print(f\"'{string2}': {check_string_format(string2)}\")\n",
    "print(f\"'{string3}': {check_string_format(string3)}\")\n",
    "print(f\"'{string4}': {check_string_format(string4)}\")\n",
    "print(f\"'{string5}': {check_string_format(string5)}\")\n",
    "print(f\"'{string6}': {check_string_format(string6)}\")\n",
    "print(f\"'{string7}': {check_string_format(string7)}\")"
   ]
  },
  {
   "cell_type": "code",
   "execution_count": null,
   "metadata": {
    "id": "hc2WlhhnTePB"
   },
   "outputs": [],
   "source": []
  },
  {
   "cell_type": "markdown",
   "metadata": {
    "id": "B2viHwl9VIIF"
   },
   "source": [
    "Task 4: Zero-shot vs Few-shot : Email Validator."
   ]
  },
  {
   "cell_type": "markdown",
   "metadata": {
    "id": "Z2ZocbuOVQdh"
   },
   "source": [
    "Prompt for Zero-shot: write a python code that checks email validation"
   ]
  },
  {
   "cell_type": "code",
   "execution_count": 5,
   "metadata": {
    "colab": {
     "base_uri": "https://localhost:8080/"
    },
    "executionInfo": {
     "elapsed": 105,
     "status": "ok",
     "timestamp": 1755187333110,
     "user": {
      "displayName": "P. Srikar",
      "userId": "10680239472928167952"
     },
     "user_tz": -330
    },
    "id": "7864b981",
    "outputId": "0d9d1e0b-2003-4082-ea0d-4cb033e28d3f"
   },
   "outputs": [
    {
     "name": "stdout",
     "output_type": "stream",
     "text": [
      "'test@example.com': True\n",
      "'invalid-email': False\n",
      "'another.test@sub.domain.co.uk': True\n",
      "'test@.com': False\n"
     ]
    }
   ],
   "source": [
    "import re\n",
    "\n",
    "def is_valid_email(email):\n",
    "  \"\"\"\n",
    "  Checks if a string is a valid email address using a regular expression.\n",
    "\n",
    "  Args:\n",
    "    email: The input string to check.\n",
    "\n",
    "  Returns:\n",
    "    True if the string is a valid email address, False otherwise.\n",
    "  \"\"\"\n",
    "  # A basic regex for email validation.\n",
    "  # This regex is not exhaustive but covers most common cases.\n",
    "  regex = r'^[a-zA-Z0-9._%+-]+@[a-zA-Z0-9.-]+\\.[a-zA-Z]{2,}$'\n",
    "  return re.match(regex, email) is not None\n",
    "\n",
    "# Example usage:\n",
    "email1 = \"test@example.com\"\n",
    "email2 = \"invalid-email\"\n",
    "email3 = \"another.test@sub.domain.co.uk\"\n",
    "email4 = \"test@.com\" # Invalid domain part\n",
    "\n",
    "print(f\"'{email1}': {is_valid_email(email1)}\")\n",
    "print(f\"'{email2}': {is_valid_email(email2)}\")\n",
    "print(f\"'{email3}': {is_valid_email(email3)}\")\n",
    "print(f\"'{email4}': {is_valid_email(email4)}\")"
   ]
  },
  {
   "cell_type": "code",
   "execution_count": null,
   "metadata": {
    "id": "WSeL7u4MUtRA"
   },
   "outputs": [],
   "source": []
  },
  {
   "cell_type": "markdown",
   "metadata": {
    "id": "Ux1iMj76Vdgp"
   },
   "source": [
    "Prompt for Few-shot: write a python code that checks email validation with the help of detailed and specific logic (e.g., @ and domain checking)."
   ]
  },
  {
   "cell_type": "code",
   "execution_count": 6,
   "metadata": {
    "colab": {
     "base_uri": "https://localhost:8080/"
    },
    "executionInfo": {
     "elapsed": 20,
     "status": "ok",
     "timestamp": 1755187518164,
     "user": {
      "displayName": "P. Srikar",
      "userId": "10680239472928167952"
     },
     "user_tz": -330
    },
    "id": "192c09c9",
    "outputId": "f0824594-5802-429c-9ec0-4a4600a37b37"
   },
   "outputs": [
    {
     "name": "stdout",
     "output_type": "stream",
     "text": [
      "'test@example.com': True\n",
      "'invalid-email': False\n",
      "'another.test@sub.domain.co.uk': True\n",
      "'test@.com': False\n",
      "'test@example': False\n",
      "'test@example-.com': False\n",
      "'-test@example.com': True\n",
      "'test@ex ample.com': False\n"
     ]
    }
   ],
   "source": [
    "import re\n",
    "\n",
    "def is_valid_email_detailed(email):\n",
    "  \"\"\"\n",
    "  Checks if a string is a valid email address with more detailed logic\n",
    "  including checks for '@' and domain structure.\n",
    "\n",
    "  Args:\n",
    "    email: The input string to check.\n",
    "\n",
    "  Returns:\n",
    "    True if the string is a valid email address, False otherwise.\n",
    "  \"\"\"\n",
    "  # Check if the email contains exactly one '@' symbol\n",
    "  if email.count('@') != 1:\n",
    "    return False\n",
    "\n",
    "  # Split the email into local part and domain part\n",
    "  local_part, domain_part = email.split('@')\n",
    "\n",
    "  # Check if local part and domain part are not empty\n",
    "  if not local_part or not domain_part:\n",
    "    return False\n",
    "\n",
    "  # Basic check for characters in local part (can be extended)\n",
    "  # Allows letters, numbers, and some special characters like ., _, %+, -\n",
    "  if not re.fullmatch(r'[a-zA-Z0-9._%+-]+', local_part):\n",
    "      return False\n",
    "\n",
    "  # Check for domain part structure (at least one dot and a top-level domain)\n",
    "  if '.' not in domain_part:\n",
    "    return False\n",
    "\n",
    "  # Split the domain part by dots\n",
    "  domain_parts = domain_part.split('.')\n",
    "\n",
    "  # Check if there is at least one part after the last dot (top-level domain)\n",
    "  if len(domain_parts) < 2 or not domain_parts[-1]:\n",
    "      return False\n",
    "\n",
    "  # Check if domain parts contain valid characters (letters, numbers, hyphens)\n",
    "  # and do not start or end with a hyphen\n",
    "  for part in domain_parts:\n",
    "      if not re.fullmatch(r'[a-zA-Z0-9-]+', part) or part.startswith('-') or part.endswith('-'):\n",
    "          return False\n",
    "\n",
    "  # If all checks pass, consider it a valid email\n",
    "  return True\n",
    "\n",
    "# Example usage:\n",
    "email1 = \"test@example.com\"\n",
    "email2 = \"invalid-email\"\n",
    "email3 = \"another.test@sub.domain.co.uk\"\n",
    "email4 = \"test@.com\" # Invalid domain part\n",
    "email5 = \"test@example\" # No TLD\n",
    "email6 = \"test@example-.com\" # Domain part ends with hyphen\n",
    "email7 = \"-test@example.com\" # Local part starts with hyphen (allowed by basic regex but could be restricted)\n",
    "email8 = \"test@ex ample.com\" # Space in domain\n",
    "\n",
    "print(f\"'{email1}': {is_valid_email_detailed(email1)}\")\n",
    "print(f\"'{email2}': {is_valid_email_detailed(email2)}\")\n",
    "print(f\"'{email3}': {is_valid_email_detailed(email3)}\")\n",
    "print(f\"'{email4}': {is_valid_email_detailed(email4)}\")\n",
    "print(f\"'{email5}': {is_valid_email_detailed(email5)}\")\n",
    "print(f\"'{email6}': {is_valid_email_detailed(email6)}\")\n",
    "print(f\"'{email7}': {is_valid_email_detailed(email7)}\")\n",
    "print(f\"'{email8}': {is_valid_email_detailed(email8)}\")"
   ]
  },
  {
   "cell_type": "code",
   "execution_count": null,
   "metadata": {
    "id": "nZwWjwGOVolI"
   },
   "outputs": [],
   "source": []
  },
  {
   "cell_type": "markdown",
   "metadata": {
    "id": "af6b3088"
   },
   "source": [
    "Task 5: Sum of Digits Function"
   ]
  },
  {
   "cell_type": "markdown",
   "metadata": {
    "id": "d9dd7366"
   },
   "source": [
    "Prompt Style 1: Generic task prompt - write a program to generate a function that returns the sum of digits of a number."
   ]
  },
  {
   "cell_type": "code",
   "execution_count": 16,
   "metadata": {
    "colab": {
     "base_uri": "https://localhost:8080/"
    },
    "executionInfo": {
     "elapsed": 71,
     "status": "ok",
     "timestamp": 1755189004803,
     "user": {
      "displayName": "P. Srikar",
      "userId": "10680239472928167952"
     },
     "user_tz": -330
    },
    "id": "736058e4",
    "outputId": "d191d112-0b68-4835-bc87-be7a8cf42707"
   },
   "outputs": [
    {
     "name": "stdout",
     "output_type": "stream",
     "text": [
      "Style 1 (Hardcoded Input):\n",
      "Input: 12345\n",
      "Output: 15\n"
     ]
    }
   ],
   "source": [
    "def sum_digits_style1_hardcoded(number):\n",
    "  \"\"\"\n",
    "  Calculates the sum of the digits of a given number.\n",
    "\n",
    "  Args:\n",
    "    number: An integer.\n",
    "\n",
    "  Returns:\n",
    "    The sum of the digits of the number.\n",
    "  \"\"\"\n",
    "  # Convert the number to a string to iterate through digits\n",
    "  num_str = str(abs(number)) # Use abs() to handle negative numbers\n",
    "\n",
    "  digit_sum = 0\n",
    "  for digit in num_str:\n",
    "    digit_sum += int(digit)\n",
    "\n",
    "  return digit_sum\n",
    "\n",
    "# Example usage for Style 1 with hardcoded input:\n",
    "hardcoded_input_style1 = 12345\n",
    "hardcoded_output_style1 = sum_digits_style1_hardcoded(hardcoded_input_style1)\n",
    "print(f\"Style 1 (Hardcoded Input):\")\n",
    "print(f\"Input: {hardcoded_input_style1}\")\n",
    "print(f\"Output: {hardcoded_output_style1}\")"
   ]
  },
  {
   "cell_type": "markdown",
   "metadata": {
    "id": "e5658b22"
   },
   "source": [
    "Prompt Style 2: Task + Input/Output takes dynamically - write a program to generate a function that returns the sum of digits of a number.\n",
    "\n",
    "Input: [Dynamically provided by user]\n",
    "Output: [Sum of digits]"
   ]
  },
  {
   "cell_type": "code",
   "execution_count": 17,
   "metadata": {
    "colab": {
     "base_uri": "https://localhost:8080/"
    },
    "executionInfo": {
     "elapsed": 3597,
     "status": "ok",
     "timestamp": 1755189014265,
     "user": {
      "displayName": "P. Srikar",
      "userId": "10680239472928167952"
     },
     "user_tz": -330
    },
    "id": "d870af24",
    "outputId": "5eeb2e40-1b7f-4d1d-a903-ccc6a517908c"
   },
   "outputs": [
    {
     "name": "stdout",
     "output_type": "stream",
     "text": [
      "\n",
      "Style 2 (Dynamic Input):\n",
      "Enter an integer to find the sum of its digits (Style 2): 123\n",
      "Input: 123\n",
      "Output: 6\n"
     ]
    }
   ],
   "source": [
    "# Using a slightly different function name for clarity, but the logic is the same.\n",
    "def sum_digits_style2_dynamic_input(number):\n",
    "  \"\"\"\n",
    "  Calculates the sum of the digits of a given number.\n",
    "\n",
    "  Args:\n",
    "    number: An integer.\n",
    "\n",
    "  Returns:\n",
    "    The sum of the digits of the number.\n",
    "  \"\"\"\n",
    "  # Convert the number to a string to iterate through digits\n",
    "  num_str = str(abs(number)) # Use abs() to handle negative numbers\n",
    "\n",
    "  digit_sum = 0\n",
    "  for digit in num_str:\n",
    "    digit_sum += int(digit)\n",
    "\n",
    "  return digit_sum\n",
    "\n",
    "# Example usage for Style 2 with dynamic input:\n",
    "print(\"\\nStyle 2 (Dynamic Input):\") # Add a newline for separation\n",
    "try:\n",
    "  dynamic_input_style2 = int(input(\"Enter an integer to find the sum of its digits (Style 2): \"))\n",
    "  dynamic_output_style2 = sum_digits_style2_dynamic_input(dynamic_input_style2)\n",
    "  print(f\"Input: {dynamic_input_style2}\")\n",
    "  print(f\"Output: {dynamic_output_style2}\")\n",
    "except ValueError:\n",
    "  print(\"Invalid input. Please enter an integer.\")"
   ]
  }
 ],
 "metadata": {
  "colab": {
   "authorship_tag": "ABX9TyN+RyExATlvsfMJEtAp1yw2",
   "provenance": []
  },
  "kernelspec": {
   "display_name": "Python 3",
   "name": "python3"
  },
  "language_info": {
   "name": "python"
  }
 },
 "nbformat": 4,
 "nbformat_minor": 0
}
