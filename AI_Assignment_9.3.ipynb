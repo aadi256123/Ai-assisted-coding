{
 "cells": [
  {
   "cell_type": "markdown",
   "metadata": {
    "id": "MFRecCiTGb0W"
   },
   "source": [
    "Task Description#1 Basic Docstring Generation\n",
    "• Write python function to return sum of even and odd numbers in the given list.\n",
    "• Incorporate manual docstring in code with Google Style\n",
    "• Use an AI-assisted tool (e.g., Copilot, Cursor AI) to generate a docstring describing\n",
    "the function.\n",
    "• Compare the AI-generated docstring with your manually written one."
   ]
  },
  {
   "cell_type": "markdown",
   "metadata": {
    "id": "n1r2lyb3GsVc"
   },
   "source": [
    "Prompt:\n",
    "Write a Python function that returns the sum of even and odd numbers in a given list. take the input from the user"
   ]
  },
  {
   "cell_type": "code",
   "execution_count": 1,
   "metadata": {
    "colab": {
     "base_uri": "https://localhost:8080/"
    },
    "executionInfo": {
     "elapsed": 18848,
     "status": "ok",
     "timestamp": 1758723741455,
     "user": {
      "displayName": "P. Srikar",
      "userId": "10680239472928167952"
     },
     "user_tz": -330
    },
    "id": "5fb1d481",
    "outputId": "7e2d5c83-2a75-4a15-abd1-e548397f7200"
   },
   "outputs": [
    {
     "name": "stdout",
     "output_type": "stream",
     "text": [
      "Enter a list of numbers separated by spaces: 1 2 5 6\n",
      "Sum of even numbers: 8\n",
      "Sum of odd numbers: 6\n"
     ]
    }
   ],
   "source": [
    "def sum_even_odd(numbers):\n",
    "  \"\"\"\"manual docstring\n",
    "    Calculates the sum of even and odd numbers in a list.\n",
    "\n",
    "  Args:\n",
    "    numbers: A list of numbers.\n",
    "\n",
    "  Returns:\n",
    "    A tuple containing the sum of even numbers and the sum of odd numbers.\n",
    "  \"\"\"\n",
    "  even_sum = 0\n",
    "  odd_sum = 0\n",
    "  for number in numbers:\n",
    "    if number % 2 == 0:\n",
    "      even_sum += number\n",
    "    else:\n",
    "      odd_sum += number\n",
    "  return even_sum, odd_sum\n",
    "\n",
    "# Get input from the user\n",
    "input_str = input(\"Enter a list of numbers separated by spaces: \")\n",
    "try:\n",
    "  numbers_list = [int(x) for x in input_str.split()]\n",
    "  even_total, odd_total = sum_even_odd(numbers_list)\n",
    "  print(f\"Sum of even numbers: {even_total}\")\n",
    "  print(f\"Sum of odd numbers: {odd_total}\")\n",
    "except ValueError:\n",
    "  print(\"Invalid input. Please enter a list of numbers separated by spaces.\")"
   ]
  },
  {
   "cell_type": "markdown",
   "metadata": {
    "id": "a9nea8jnGyUD"
   },
   "source": [
    "prompt :\n",
    "Write a Python function that returns the sum of even and odd numbers in a given list. take the input from the user, now add docstring and give it again"
   ]
  },
  {
   "cell_type": "code",
   "execution_count": 2,
   "metadata": {
    "colab": {
     "base_uri": "https://localhost:8080/"
    },
    "executionInfo": {
     "elapsed": 5829,
     "status": "ok",
     "timestamp": 1758723886076,
     "user": {
      "displayName": "P. Srikar",
      "userId": "10680239472928167952"
     },
     "user_tz": -330
    },
    "id": "3635fb1c",
    "outputId": "4f05a54a-a08b-40c0-8f4f-a7148b66e385"
   },
   "outputs": [
    {
     "name": "stdout",
     "output_type": "stream",
     "text": [
      "Enter a list of numbers separated by spaces: 1 2 4 5\n",
      "Sum of even numbers: 6\n",
      "Sum of odd numbers: 6\n"
     ]
    }
   ],
   "source": [
    "def sum_even_odd(numbers):\n",
    "  \"\"\"\n",
    "  Calculates the sum of even and odd numbers in a list.\n",
    "\n",
    "  Args:\n",
    "    numbers: A list of numbers.\n",
    "\n",
    "  Returns:\n",
    "    A tuple containing the sum of even numbers and the sum of odd numbers.\n",
    "    1. Prompt the user to enter numbers separated by spaces.\n",
    "    2. Split the input string into individual number strings.\n",
    "    3. Convert the number strings to integers.\n",
    "    4. Calculate the sum of even numbers.\n",
    "    5. Calculate the sum of odd numbers.\n",
    "    6. Return the sums as a tuple (even_sum, odd_sum).\n",
    "    7. Print the results\n",
    "  \"\"\"\n",
    "  even_sum = 0\n",
    "  odd_sum = 0\n",
    "  for number in numbers:\n",
    "    if number % 2 == 0:\n",
    "      even_sum += number\n",
    "    else:\n",
    "      odd_sum += number\n",
    "  return even_sum, odd_sum\n",
    "\n",
    "# Get input from the user\n",
    "input_str = input(\"Enter a list of numbers separated by spaces: \")\n",
    "try:\n",
    "  numbers_list = [int(x) for x in input_str.split()]\n",
    "  even_total, odd_total = sum_even_odd(numbers_list)\n",
    "  print(f\"Sum of even numbers: {even_total}\")\n",
    "  print(f\"Sum of odd numbers: {odd_total}\")\n",
    "except ValueError:\n",
    "  print(\"Invalid input. Please enter a list of numbers separated by spaces.\")"
   ]
  },
  {
   "cell_type": "markdown",
   "metadata": {
    "id": "WK4IiBJoHYnk"
   },
   "source": [
    "observations and code expalnation\n",
    "\n",
    "1. Manual docstring is short and simple, while AI docstring is detailed and structured.\n",
    "\n",
    "2. Manual explains input/output in plain words, AI uses standard Google Style format.\n",
    "\n",
    "3. Manual is easy to write quickly, AI looks professional and formal.\n",
    "\n",
    "4. Manual may lack data types and clarity, AI clearly specifies arguments and return values.\n",
    "\n",
    "5. Manual is suitable for small assignments, AI is better for real-world coding practices."
   ]
  },
  {
   "cell_type": "markdown",
   "metadata": {
    "id": "O0o7_9zuH0g1"
   },
   "source": [
    "Task Description#2 Automatic Inline Comments\n",
    "• Write python program for sru_student class with attributes like name, roll no.,\n",
    "hostel_status and fee_update method and display_details method.\n",
    "• Write comments manually for each line/code block\n",
    "• Ask an AI tool to add inline comments explaining each line/step.\n",
    "• Compare the AI-generated comments with your manually written one."
   ]
  },
  {
   "cell_type": "markdown",
   "metadata": {
    "id": "VHt1eX2nITVs"
   },
   "source": [
    "\n",
    "Prompt : Write python program for sru_student class with attributes like name, roll no., hostel_status and fee_update method and display_details method take the input from user"
   ]
  },
  {
   "cell_type": "code",
   "execution_count": 3,
   "metadata": {
    "colab": {
     "base_uri": "https://localhost:8080/"
    },
    "executionInfo": {
     "elapsed": 59114,
     "status": "ok",
     "timestamp": 1758724152954,
     "user": {
      "displayName": "P. Srikar",
      "userId": "10680239472928167952"
     },
     "user_tz": -330
    },
    "id": "a998bcd3",
    "outputId": "63960e28-5dc8-4564-d06a-d0e55cfb4979"
   },
   "outputs": [
    {
     "name": "stdout",
     "output_type": "stream",
     "text": [
      "Enter student name: srikar\n",
      "Enter student roll number: 2188\n",
      "Enter hostel status (Yes/No): yes\n",
      "Student Name: srikar\n",
      "Roll Number: 2188\n",
      "Hostel Status: yes\n",
      "Fees Due: 5000\n"
     ]
    }
   ],
   "source": [
    "class sru_student:\n",
    "  def __init__(self, name, roll_no, hostel_status):\n",
    "    self.name = name\n",
    "    self.roll_no = roll_no\n",
    "    self.hostel_status = hostel_status\n",
    "    self.fees_due = 0\n",
    "\n",
    "  def fee_update(self, amount):\n",
    "    self.fees_due += amount\n",
    "\n",
    "  def display_details(self):\n",
    "    print(f\"Student Name: {self.name}\")\n",
    "    print(f\"Roll Number: {self.roll_no}\")\n",
    "    print(f\"Hostel Status: {self.hostel_status}\")\n",
    "    print(f\"Fees Due: {self.fees_due}\")\n",
    "\n",
    "# Get input from the user\n",
    "name = input(\"Enter student name: \")\n",
    "roll_no = input(\"Enter student roll number: \")\n",
    "hostel_status = input(\"Enter hostel status (Yes/No): \")\n",
    "\n",
    "# Create a student object\n",
    "student1 = sru_student(name, roll_no, hostel_status)\n",
    "\n",
    "# Example of updating fees and displaying details\n",
    "student1.fee_update(5000)\n",
    "student1.display_details()"
   ]
  },
  {
   "cell_type": "markdown",
   "metadata": {
    "id": "MmT4faawIaRM"
   },
   "source": [
    "Write python program for sru_student class with attributes like name, roll no., hostel_status and fee_update method and display_details method take the input from user give in line comments"
   ]
  },
  {
   "cell_type": "code",
   "execution_count": null,
   "metadata": {
    "id": "Ma2g4x4MHelN"
   },
   "outputs": [],
   "source": [
    "class sru_student:\n",
    "  def __init__(self, name, roll_no, hostel_status):\n",
    "    self.name = name\n",
    "    self.roll_no = roll_no\n",
    "    self.hostel_status = hostel_status\n",
    "    self.fees_due = 0 # Initialize fees_due\n",
    "\n",
    "  def fee_update(self, amount):\n",
    "    self.fees_due += amount\n",
    "\n",
    "  def display_details(self):\n",
    "    print(f\"Student Name: {self.name}\")\n",
    "    print(f\"Roll Number: {self.roll_no}\")\n",
    "    print(f\"Hostel Status: {self.hostel_status}\")\n",
    "    print(f\"Fees Due: {self.fees_due}\")\n",
    "\n",
    "# Get input from the user\n",
    "name = input(\"Enter student name: \")\n",
    "roll_no = input(\"Enter student roll number: \")\n",
    "hostel_status = input(\"Enter hostel status (Yes/No): \")\n",
    "\n",
    "# Create a student object\n",
    "student1 = sru_student(name, roll_no, hostel_status)\n",
    "\n",
    "# Example of updating fees and displaying details\n",
    "student1.fee_update(5000)\n",
    "student1.display_details()"
   ]
  },
  {
   "cell_type": "markdown",
   "metadata": {
    "id": "zQzImfJCJbM8"
   },
   "source": [
    "observations and code expalnation\n",
    "\n",
    "Manual comments are conversational, while AI comments are formal and technical.\n",
    "\n",
    "Manual focuses on explaining the purpose, AI focuses on describing each step.\n",
    "\n",
    "Manual feels natural for beginners, AI feels structured but robotic.\n",
    "\n",
    "Manual is better for learning/exams, AI is better for professional projects.\n",
    "\n",
    "Manual may miss standardization, AI may miss the “why” behind the code."
   ]
  },
  {
   "cell_type": "markdown",
   "metadata": {
    "id": "7T6TlJhfIswE"
   },
   "source": [
    "Task Description#3\n",
    "• Write a Python script with 3–4 functions (e.g., calculator: add, subtract, multiply,\n",
    "divide).\n",
    "• Incorporate manual docstring in code with NumPy Style\n",
    "• Use AI assistance to generate a module-level docstring + individual function\n",
    "docstrings.\n",
    "• Compare the AI-generated docstring with your manually written one."
   ]
  },
  {
   "cell_type": "markdown",
   "metadata": {
    "id": "BkQurjbgJEut"
   },
   "source": [
    "Prompt :Write a Python script with 3–4 functions (e.g., calculator: add, subtract, multiply, divide). take the input from the user  Use AI assistance to generate a module-level docstring + individual function docstrings"
   ]
  },
  {
   "cell_type": "code",
   "execution_count": 4,
   "metadata": {
    "colab": {
     "base_uri": "https://localhost:8080/"
    },
    "executionInfo": {
     "elapsed": 9308,
     "status": "ok",
     "timestamp": 1758724364083,
     "user": {
      "displayName": "P. Srikar",
      "userId": "10680239472928167952"
     },
     "user_tz": -330
    },
    "id": "7394c5b9",
    "outputId": "8b5f35b6-0fa5-4b71-ad84-41d684ef089b"
   },
   "outputs": [
    {
     "name": "stdout",
     "output_type": "stream",
     "text": [
      "Select operation:\n",
      "1.Add\n",
      "2.Subtract\n",
      "3.Multiply\n",
      "4.Divide\n",
      "Enter choice(1/2/3/4): 1\n",
      "Enter first number: 4\n",
      "Enter second number: 5\n",
      "4.0 + 5.0 = 9.0\n"
     ]
    }
   ],
   "source": [
    "def add(x, y):\n",
    "  \"\"\"Adds two numbers.\"\"\"\n",
    "  return x + y\n",
    "\n",
    "def subtract(x, y):\n",
    "  \"\"\"Subtracts two numbers.\"\"\"\n",
    "  return x - y\n",
    "\n",
    "def multiply(x, y):\n",
    "  \"\"\"Multiplies two numbers.\"\"\"\n",
    "  return x * y\n",
    "\n",
    "def divide(x, y):\n",
    "  \"\"\"Divides two numbers.\"\"\"\n",
    "  if y == 0:\n",
    "    return \"Error! Division by zero.\"\n",
    "  else:\n",
    "    return x / y\n",
    "\n",
    "print(\"Select operation:\")\n",
    "print(\"1.Add\")\n",
    "print(\"2.Subtract\")\n",
    "print(\"3.Multiply\")\n",
    "print(\"4.Divide\")\n",
    "\n",
    "while True:\n",
    "  choice = input(\"Enter choice(1/2/3/4): \")\n",
    "\n",
    "  if choice in ('1', '2', '3', '4'):\n",
    "    try:\n",
    "      num1 = float(input(\"Enter first number: \"))\n",
    "      num2 = float(input(\"Enter second number: \"))\n",
    "    except ValueError:\n",
    "      print(\"Invalid input. Please enter numbers.\")\n",
    "      continue\n",
    "\n",
    "    if choice == '1':\n",
    "      print(num1, \"+\", num2, \"=\", add(num1, num2))\n",
    "\n",
    "    elif choice == '2':\n",
    "      print(num1, \"-\", num2, \"=\", subtract(num1, num2))\n",
    "\n",
    "    elif choice == '3':\n",
    "      print(num1, \"*\", num2, \"=\", multiply(num1, num2))\n",
    "\n",
    "    elif choice == '4':\n",
    "      print(num1, \"/\", num2, \"=\", divide(num1, num2))\n",
    "    break\n",
    "  else:\n",
    "    print(\"Invalid Input\")"
   ]
  }
 ],
 "metadata": {
  "colab": {
   "authorship_tag": "ABX9TyPzfqJbP0llqJ9izD3S3ReD",
   "provenance": []
  },
  "kernelspec": {
   "display_name": "Python 3",
   "name": "python3"
  },
  "language_info": {
   "name": "python"
  }
 },
 "nbformat": 4,
 "nbformat_minor": 0
}
